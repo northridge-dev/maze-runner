{
 "cells": [
  {
   "cell_type": "markdown",
   "id": "4010000d-85bb-4687-ae2f-c100ec7f7419",
   "metadata": {},
   "source": [
    "# AI Maze Solver: Representing the Maze\n",
    "\n",
    "We've ~flipped~ solved one search problem. Let's look at another: mazes."
   ]
  },
  {
   "cell_type": "markdown",
   "id": "b387f573-f9c1-4e4b-80a6-de8062462936",
   "metadata": {},
   "source": [
    "Before we dive into code, let's play around a bit. The next few cells are just setting up some imports. You can safely ignore them."
   ]
  },
  {
   "cell_type": "code",
   "execution_count": null,
   "id": "479c6707-fc51-49be-a26a-59ca73ef8952",
   "metadata": {},
   "outputs": [],
   "source": [
    "import os\n",
    "import sys\n",
    "module_path = os.path.abspath(os.path.join('../src')) # or the path to your source code\n",
    "sys.path.insert(0, module_path)"
   ]
  },
  {
   "cell_type": "code",
   "execution_count": null,
   "id": "b3660610-b828-447c-8f96-7bbc80406d63",
   "metadata": {},
   "outputs": [],
   "source": [
    "from Maze import Maze"
   ]
  },
  {
   "cell_type": "markdown",
   "id": "2c8e98b9-cc66-4f3f-bf7b-18ad1da4e4b0",
   "metadata": {},
   "source": [
    "`Maze` is a class I've written. Soon, you'll (re)write some of it yourself. But first we'll explore a little. I'm going to create a maze object by loading in a text file (in the `mazes` directory) named `maze2.txt`. (Notice I left off the `.txt` extension.)"
   ]
  },
  {
   "cell_type": "code",
   "execution_count": null,
   "id": "1422b0ef-c3eb-4c17-bea3-f55753df5c87",
   "metadata": {},
   "outputs": [],
   "source": [
    "example_maze = Maze('maze2')\n",
    "example_maze"
   ]
  },
  {
   "cell_type": "markdown",
   "id": "9f05b885-e252-46b6-88cb-594c38d9ad29",
   "metadata": {},
   "source": [
    "Not too exciting yet, right? All you can see is that we've created some `Maze` object and it's being stored at some address in memory. It's not obvious, but `Maze` is a **class**, a sort of template for creating **objects** -- **instances** of the class -- that combine *data* and the *functions* (or, better, *methods*) that will operate on that data. We'll learn more about classes and and instances soon.\n",
    "\n",
    "But I bet you're wondering what the maze looks like. Let's see..."
   ]
  },
  {
   "cell_type": "code",
   "execution_count": null,
   "id": "569e6b00-6efb-4f33-a9f8-40e7dda37644",
   "metadata": {},
   "outputs": [],
   "source": [
    "example_maze.print()"
   ]
  },
  {
   "cell_type": "markdown",
   "id": "679fe287-2b42-46fd-aab4-1853c5f19ccc",
   "metadata": {},
   "source": [
    "`print` is a **method** on the **class** `Maze`. `example_maze`, because it's an **instance** of `Maze`, has access to the `print` method. As its name suggests, it *prints* out a representation of the maze. `A` is the starting point and `B` is the goal. The walls are represented by `■` and the empty spots are pathways."
   ]
  },
  {
   "cell_type": "markdown",
   "id": "b3561791-0856-4375-8de3-015692bd0d69",
   "metadata": {},
   "source": [
    "That's cool, but here's a better, easier-to-read representation of the maze:"
   ]
  },
  {
   "cell_type": "code",
   "execution_count": null,
   "id": "1c425b72-1287-4835-aa94-7aeb9f0e841d",
   "metadata": {},
   "outputs": [],
   "source": [
    "example_maze.draw()"
   ]
  },
  {
   "cell_type": "markdown",
   "id": "1782d44b-d1b7-4ec9-9180-ffc1dd06008a",
   "metadata": {},
   "source": [
    "`draw` is another method on the class `Maze`. The red square is the starting point; the green square is the goal, and the darker squares are the maze walls. I used a library called `pillow` to create this image.  "
   ]
  },
  {
   "cell_type": "markdown",
   "id": "8b63c602-e460-4288-84f9-012112c8bb52",
   "metadata": {},
   "source": [
    "But the maze has humbler origins. Here's what it looks like in the text file:\n",
    "```\n",
    "###                 #########\n",
    "#   ###################   # #\n",
    "# ####                # # # #\n",
    "# ################### # # # #\n",
    "#                     # # # #\n",
    "##################### # # # #\n",
    "#   ##                # # # #\n",
    "# # ## ### ## ######### # # #\n",
    "# #    #   ##B#         # # #\n",
    "# # ## ################ # # #\n",
    "### ##             #### # # #\n",
    "### ############## ## # # # #\n",
    "###             ##    # # # #\n",
    "###### ######## ####### # # #\n",
    "###### ####             #   #\n",
    "A      ######################\n",
    "```"
   ]
  },
  {
   "cell_type": "markdown",
   "id": "d1d92e8d-a16d-4db0-a651-e756022270ee",
   "metadata": {},
   "source": [
    "And internally, the maze is represented as a 2-D array of Boolean values: a *list of lists* where each element is `True` or `False`. A simpler maze might \"look\" something like this:\n",
    "```python\n",
    "[\n",
    "    [True, True, True, True, True, False, True],\n",
    "    [True, True, True, True, True, False, True],\n",
    "    [True, True, True, True, False, False, True], \n",
    "    [True, True, True, True, False, True, True], \n",
    "    [False, False, False, False, False, True, True], \n",
    "    [False, True, True, True, True, True, True]\n",
    "]\n",
    "```\n",
    "\n",
    "This 2-D array represents a maze that's 6 cells by 7 cells. The outer list contains 6 lists, each of which is a \"row\" of the maze. Each element in the inner lists shows that row's columns. `True` indicates that, at that coordinate in the maze, there's a wall; `False`, that there's not a wall. \n",
    "\n",
    "To finish the picture, you'd also need to know the coordinates of the starting point and the goal. Suppose the starting point were at `(5, 0)` -- that's the bottom-left corner (that is, the first element in the last inner list). And suppose the goal were at `(0, 5)`, near the top-right corner, in the top row one cell from the right edge."
   ]
  },
  {
   "cell_type": "markdown",
   "id": "d42a1978-0bb7-41b1-91af-afc19a6bb6e4",
   "metadata": {},
   "source": [
    "That's a more useful representation for a computer algorithm, but hard for us humans to \"see\", let alone solve. For us, this would be easier: "
   ]
  },
  {
   "cell_type": "code",
   "execution_count": null,
   "id": "9d81e30f-34e3-4c70-b62d-beadfb2f9360",
   "metadata": {},
   "outputs": [],
   "source": [
    "simpler_maze = Maze('maze1')\n",
    "simpler_maze.draw()"
   ]
  },
  {
   "cell_type": "markdown",
   "id": "4d43f58c-714f-4280-8e10-8c76853aaf92",
   "metadata": {},
   "source": [
    "Seen like that, the solution is obvious. To us. But not to a computer. The computer would \"prefer\" (if computers could prefer) the 2-D array representation."
   ]
  },
  {
   "cell_type": "markdown",
   "id": "faac1c9c-1f76-4db0-94fc-e703e1ab7cdf",
   "metadata": {},
   "source": [
    "How'd you like to make a maze of your own? In the `mazes/` folder, add a new text file. Use `A` to mark the maze's beginning, `B` to mark its goal, and `#`s to represent its walls. It should:\n",
    "  - Have only one starting point (one `A`)\n",
    "  - Have only one goal (one `B`)\n",
    "  - Each row should have the same number of columns\n",
    "\n",
    "Empty spaces will be the pathways. Once you have it, you can load it up and see it `print`ed and `draw`n."
   ]
  },
  {
   "cell_type": "code",
   "execution_count": null,
   "id": "9f01562f-d2c6-4fcb-a6d9-e4c4f724d2a0",
   "metadata": {},
   "outputs": [],
   "source": [
    "custom_maze = Maze('<enter file name here without extension>')\n",
    "custom_maze.print()"
   ]
  },
  {
   "cell_type": "code",
   "execution_count": null,
   "id": "9a5f87e6-d9a3-4ef9-be19-e6536ed1a69c",
   "metadata": {},
   "outputs": [],
   "source": [
    "custom_maze.draw()"
   ]
  },
  {
   "cell_type": "markdown",
   "id": "1d9fb8d7-f63d-48ae-8524-5150289c4a88",
   "metadata": {},
   "source": [
    "Try making another maze or two (or three). For later, it might be interesting to create mazes that have two or more solutions or mazes that have no solutions. You can visualize them by adding cells and using the `Maze` class to create new instances and call the `print` or `draw` methods on those instances."
   ]
  },
  {
   "cell_type": "code",
   "execution_count": null,
   "id": "00805c8d-7654-464b-84c1-7d78ff7f5a8e",
   "metadata": {},
   "outputs": [],
   "source": []
  },
  {
   "cell_type": "code",
   "execution_count": null,
   "id": "c2271faf-f612-4c43-ae0d-a8a83a6f411a",
   "metadata": {},
   "outputs": [],
   "source": []
  }
 ],
 "metadata": {
  "kernelspec": {
   "display_name": "Python 3 (ipykernel)",
   "language": "python",
   "name": "python3"
  },
  "language_info": {
   "codemirror_mode": {
    "name": "ipython",
    "version": 3
   },
   "file_extension": ".py",
   "mimetype": "text/x-python",
   "name": "python",
   "nbconvert_exporter": "python",
   "pygments_lexer": "ipython3",
   "version": "3.12.6"
  }
 },
 "nbformat": 4,
 "nbformat_minor": 5
}
