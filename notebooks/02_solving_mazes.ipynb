{
 "cells": [
  {
   "cell_type": "markdown",
   "id": "7fdfa211-8988-41ed-9e38-11cb0ab03649",
   "metadata": {},
   "source": [
    "# AI Maze Solver: Solving a Maze\n",
    "\n",
    "Now that we've seen how a maze can be represented, let's see what it looks like to *solve* a maze. We won't write the code to solve mazes ... yet. For now, let's see what a solution might look like."
   ]
  },
  {
   "cell_type": "markdown",
   "id": "e6312bfd-adca-45ef-8e73-93713b6e1ccd",
   "metadata": {},
   "source": [
    "First, a little set up. `MazeSolver` is another class, the one we'll use to solve a maze. Otherwise, nothing to worry about here."
   ]
  },
  {
   "cell_type": "code",
   "execution_count": null,
   "id": "37ffb384-02d8-49db-baa2-b13c44d476dd",
   "metadata": {},
   "outputs": [],
   "source": [
    "import os\n",
    "import sys\n",
    "module_path = os.path.abspath(os.path.join('../src')) # or the path to your source code\n",
    "sys.path.insert(0, module_path)"
   ]
  },
  {
   "cell_type": "code",
   "execution_count": null,
   "id": "0f02ca79-aa95-47bb-a621-d5fbc498b015",
   "metadata": {},
   "outputs": [],
   "source": [
    "from Maze import Maze\n",
    "from Solver import MazeSolver"
   ]
  },
  {
   "cell_type": "markdown",
   "id": "19bd444f-9106-46e2-9fbd-7d99665a150f",
   "metadata": {},
   "source": [
    "Let's load up our maze and draw it again."
   ]
  },
  {
   "cell_type": "code",
   "execution_count": null,
   "id": "db0a0aff-5900-4871-b03d-682b898faaca",
   "metadata": {},
   "outputs": [],
   "source": [
    "maze = Maze('maze2')\n",
    "maze.draw()"
   ]
  },
  {
   "cell_type": "markdown",
   "id": "32bd650c-9f46-4a54-b93e-fa2c0e82a220",
   "metadata": {},
   "source": [
    "Think about how **you'd** solve this maze. If you're like me, you'll likely start following a path with your finger or your eyes. Because this isn't a difficult maze and because we can take in the whole maze (or at least big chunks of it) at one time, we can quickly put ourselves on the right path. The dead-ends are pretty obvious and so easy to avoid. If we were at the square two squares above the goal, we'd never make the \"mistake\" of exploring the long (and fruitless) path to the right instead of turning down the short passage to the goal."
   ]
  },
  {
   "cell_type": "markdown",
   "id": "51f1ced5-a120-4ac0-bba8-6fb34697a055",
   "metadata": {},
   "source": [
    "But a computer **can't** see what you see. It can't intuitively exclude long paths that are (to you!) obviously dead-ends. Before we dig into just how the computer solves the maze, let's give the computer a chance."
   ]
  },
  {
   "cell_type": "code",
   "execution_count": null,
   "id": "97c515e0-d156-4817-bea1-d1d838eb2911",
   "metadata": {},
   "outputs": [],
   "source": [
    "dfs_solver = MazeSolver(maze, 'dfs')"
   ]
  },
  {
   "cell_type": "markdown",
   "id": "94704ae5-f150-4c8d-9ee8-e093aaefe3e1",
   "metadata": {},
   "source": [
    "Done! The computer might not be efficient, but it's *fast*. Let's check it's work. We'll print out the directions it devised and we'll see if it gets us to the goal."
   ]
  },
  {
   "cell_type": "code",
   "execution_count": null,
   "id": "56538ee2-55ca-4c50-9fd6-cd469311ef73",
   "metadata": {},
   "outputs": [],
   "source": [
    "dfs_solver.actions"
   ]
  },
  {
   "cell_type": "markdown",
   "id": "c39cd714-4cee-4abc-8970-9a4baacb53c5",
   "metadata": {},
   "source": [
    "🏆 Way to go, computer."
   ]
  },
  {
   "cell_type": "markdown",
   "id": "e7f81ee2-2dcd-4c3a-b16a-d68fb11181fc",
   "metadata": {},
   "source": [
    "We can also visualize the solution by passing the solution to the `maze` instance."
   ]
  },
  {
   "cell_type": "code",
   "execution_count": null,
   "id": "1665d34d-b9f6-479c-a445-17cb8fa40d8f",
   "metadata": {},
   "outputs": [],
   "source": [
    "maze.draw(dfs_solver.solution)"
   ]
  },
  {
   "cell_type": "markdown",
   "id": "33c6e94f-8c6b-4f16-a4f1-84e9f60f4fbb",
   "metadata": {},
   "source": [
    "We might get some insight if we could see *how* the computer got there. Let's add to our picture all the cells the computer visited in its search."
   ]
  },
  {
   "cell_type": "code",
   "execution_count": null,
   "id": "3b2e2fb9-070b-48ac-a6de-ba67fbeec757",
   "metadata": {},
   "outputs": [],
   "source": [
    "maze.draw(dfs_solver.solution, dfs_solver.explored)"
   ]
  },
  {
   "cell_type": "code",
   "execution_count": null,
   "id": "365c89fa-7d1e-4c65-86e4-dabd763f13d9",
   "metadata": {},
   "outputs": [],
   "source": [
    "dfs_solver.num_explored"
   ]
  },
  {
   "cell_type": "markdown",
   "id": "d11b4e03-ba41-4958-a6bf-97d540a1ec03",
   "metadata": {},
   "source": [
    "Yikes! Our search algorithm explored **194** cells, almost the whole maze. But maybe we could do better."
   ]
  },
  {
   "cell_type": "markdown",
   "id": "59d70f79-11d7-4ea0-aee1-5ee5df80d60d",
   "metadata": {},
   "source": [
    "We asked our solver to use a ***depth-first search*** strategy. If it starts down a path, it will keep exploring it until it reaches the goal or comes to a dead-end. That's what we mean by **depth-first**. If it hits a dead-end, it will backtrack to the last place it could could have followed a different path and it will exhaust *that* possibility, searching until it finds the goal or runs into the dead end.\n",
    "\n",
    "I'd argue that, leaving aside our ability to intuitively eliminate possibilities, a depth-first search strategy is what most of us would use most of the time. Maybe you could, from time to time, make smarter choices about whether to go right instead of left (or left instead of right), but more or less, you'd follow one path until it was obvious to you that it wasn't leading you to the goal."
   ]
  },
  {
   "cell_type": "markdown",
   "id": "f026936c-6435-4453-8b12-2e0e52c873c3",
   "metadata": {},
   "source": [
    "We could instead try a ***breadth-first search*** strategy. *We'd* have a hard time doing a breadth-first search. It would be like following multiple paths at once, taking a step in each possible direction. Here's what it would look like for the same maze..."
   ]
  },
  {
   "cell_type": "code",
   "execution_count": null,
   "id": "c2013155-627b-4ca0-83c3-35d7cd67cdbf",
   "metadata": {},
   "outputs": [],
   "source": [
    "bfs_solver = MazeSolver(maze, 'bfs')\n",
    "maze.draw(bfs_solver.solution, bfs_solver.explored)"
   ]
  },
  {
   "cell_type": "code",
   "execution_count": null,
   "id": "51ae1603-ba85-4179-9d36-4ce0ecc2d186",
   "metadata": {},
   "outputs": [],
   "source": [
    "bfs_solver.num_explored"
   ]
  },
  {
   "cell_type": "markdown",
   "id": "99d8af28-6b32-4be2-ba9d-1ed4b9879a27",
   "metadata": {},
   "source": [
    "Chin up, computer. That was much better!\n",
    "\n",
    "The breadth-first search found the same solution, but it needed to explore far fewer cells. Why? You can see that it never got too far down a dead-end path. That's because it was exploring many paths simultaneously. "
   ]
  },
  {
   "cell_type": "markdown",
   "id": "f3fa620e-33d1-4475-8bd5-76a9f18ef2fe",
   "metadata": {},
   "source": [
    "## Which is better, breadth- or depth-first?"
   ]
  },
  {
   "cell_type": "markdown",
   "id": "7b1fa4a2-7f38-4c57-8ceb-85e994ae8997",
   "metadata": {},
   "source": [
    "So is breadth-first always a more efficient strategy? Do you think you could create a map that was solved more efficiently with a depth-first search? Try! You can add a new maze in the `mazes/` folder, load it, and test it below:"
   ]
  },
  {
   "cell_type": "code",
   "execution_count": null,
   "id": "5811d568-c85c-4bf8-ba06-1454dc1ea226",
   "metadata": {},
   "outputs": [],
   "source": [
    "test_maze = Maze('') # don't forget to fill in the name of your maze, excluding the .txt extension\n",
    "dfs = MazeSolver(test_maze, 'dfs')\n",
    "bfs = MazeSolver(test_maze, 'bfs')"
   ]
  },
  {
   "cell_type": "code",
   "execution_count": null,
   "id": "a51489c0-656a-46b6-842f-7550dd69c9dd",
   "metadata": {},
   "outputs": [],
   "source": [
    "test_maze.draw(dfs.solution, dfs.explored)"
   ]
  },
  {
   "cell_type": "code",
   "execution_count": null,
   "id": "0c05bad7-ea3f-453a-9e50-6500953e9d9f",
   "metadata": {},
   "outputs": [],
   "source": [
    "test_maze.draw(bfs.solution, bfs.explored)"
   ]
  },
  {
   "cell_type": "code",
   "execution_count": null,
   "id": "53cc823b-7054-45f4-9a71-2460ee1e4ed3",
   "metadata": {},
   "outputs": [],
   "source": [
    "dfs.num_explored < bfs.num_explored"
   ]
  },
  {
   "cell_type": "markdown",
   "id": "7c6a86de-dad1-4e17-b19e-94d9813e0a4b",
   "metadata": {},
   "source": [
    "If the breadth-first search was more efficient, tweak your map (based on what you've seen) to favor the depth-first search and run the code again."
   ]
  },
  {
   "cell_type": "markdown",
   "id": "6f8f4102-8f67-4b45-bda7-d7f7b3b51eaa",
   "metadata": {},
   "source": [
    "Based on what you've seen, what can you conclude about the relative efficiency of breadth- and depth-first search strategies?"
   ]
  },
  {
   "cell_type": "markdown",
   "id": "1b6a532e-fb6e-4c89-b9db-163947542ccc",
   "metadata": {},
   "source": [
    "## Different solutions?\n",
    "\n",
    "If a maze has only one solution, both breadth- and depth-first searches should find it. \n",
    "\n",
    "But there's no rule that a maze can only have one solution. Try constructing a maze such that a breadth-first search will find one solution and a depth-first solution will find another."
   ]
  },
  {
   "cell_type": "code",
   "execution_count": null,
   "id": "78bfe6aa-177c-41cf-8012-02903ff3233e",
   "metadata": {},
   "outputs": [],
   "source": [
    "two_solution_maze = Maze('') # don't forget to fill in the name of your maze, excluding the .txt extension\n",
    "two_solution_dfs = MazeSolver(two_solution_maze, 'dfs')\n",
    "two_solution_bfs = MazeSolver(two_solution_maze, 'bfs')"
   ]
  },
  {
   "cell_type": "code",
   "execution_count": null,
   "id": "89097576-ff65-42d8-8bcd-0287b6df281d",
   "metadata": {},
   "outputs": [],
   "source": [
    "two_solution_maze.draw(two_solution_dfs.solution)"
   ]
  },
  {
   "cell_type": "code",
   "execution_count": null,
   "id": "c51ed4d9-e196-4156-bc58-2aaf7cdbbed7",
   "metadata": {},
   "outputs": [],
   "source": [
    "two_solution_maze.draw(two_solution_bfs.solution)"
   ]
  }
 ],
 "metadata": {
  "kernelspec": {
   "display_name": "Python 3 (ipykernel)",
   "language": "python",
   "name": "python3"
  },
  "language_info": {
   "codemirror_mode": {
    "name": "ipython",
    "version": 3
   },
   "file_extension": ".py",
   "mimetype": "text/x-python",
   "name": "python",
   "nbconvert_exporter": "python",
   "pygments_lexer": "ipython3",
   "version": "3.12.6"
  }
 },
 "nbformat": 4,
 "nbformat_minor": 5
}
