{
 "cells": [
  {
   "cell_type": "markdown",
   "id": "552ce9c6-132c-41fe-92a6-3f387799777d",
   "metadata": {},
   "source": [
    "# `Maze` Class\n",
    "\n",
    "Together, we read through the `Maze` class. This is the code responsible for reading a maze file, validating and parsing its contents, and producing visualizations. You can find the whole class [here](../src/Maze.py)."
   ]
  },
  {
   "cell_type": "markdown",
   "id": "cd82a530-483e-44ef-b9c3-50c716f63bfe",
   "metadata": {},
   "source": [
    "## The Less Important Bits\n",
    "\n",
    "Some of the code in `Maze` is \"utility\" code that we didn't spend much time considering:\n",
    "  - How to open and read the contents of text file into memory\n",
    "  - How it \"prints\" the maze it has parsed \n",
    "  - How (using the `Pillow` library) it can \"draw\" the maze"
   ]
  },
  {
   "cell_type": "markdown",
   "id": "33f94e56-3d4f-446a-975f-17096e57b742",
   "metadata": {},
   "source": [
    "## `__init__`\n",
    "\n",
    "We did spend a little time working through the `__init__` method. It's an example of a more involved initialization process. In particular, we discussed:\n",
    "  - how it calls another class method, `_validate`, to ensure that the maze it has read in is valid\n",
    "  - how it calls another class method, `_parse`, to build up its \"internal\" 2D array (list of lists) representation of the maze\n",
    "\n",
    "Here's the `__init__` method in full:\n",
    "```python\n",
    "def __init__(self, maze_name):\n",
    "        self.path_to_maze_file = f\"../mazes/{maze_name}.txt\"\n",
    "\n",
    "        # Read maze file\n",
    "        with open(self.path_to_maze_file) as f:\n",
    "            self.maze_raw = self._validate(f.read())\n",
    "\n",
    "        self.maze_linesplit = self.maze_raw.splitlines()\n",
    "        self.height = len(self.maze_linesplit)\n",
    "        self.width = max(len(line) for line in self.maze_linesplit)\n",
    "        self.start, self.goal, self.walls = self._parse(self.maze_linesplit)\n",
    "```"
   ]
  },
  {
   "cell_type": "markdown",
   "id": "587f38cb-0450-4247-8dd8-db063a2f2d96",
   "metadata": {},
   "source": [
    "## \"Parsing\" the Maze, Building the Internal Representation\n",
    "\n",
    "Critically, the `Maze` class is responsible for turning a bunch of spaces, #'s, an A and a B arranged in lines of text into some data structure we can use *algorithmically* to solve the maze.\n",
    "\n",
    "Here's the code that does it:\n",
    "```python\n",
    "def _parse(self, linesplit):\n",
    "        walls = []\n",
    "        start = None\n",
    "        goal = None\n",
    "\n",
    "        for i in range(self.height):\n",
    "            row = []\n",
    "            for j in range(self.width):\n",
    "                try:\n",
    "                    if linesplit[i][j] == \"A\":\n",
    "                        start = (i, j)\n",
    "                        row.append(False)\n",
    "                    elif linesplit[i][j] == \"B\":\n",
    "                        goal = (i, j)\n",
    "                        row.append(False)\n",
    "                    elif linesplit[i][j] == \" \":\n",
    "                        row.append(False)\n",
    "                    else:\n",
    "                        row.append(True)\n",
    "                except IndexError:\n",
    "                    row.append(False)\n",
    "            walls.append(row)\n",
    "\n",
    "        return (start, goal, walls)\n",
    "```\n",
    "\n",
    "We use nested `for` loops -- a `for` loop *inside* another `for` loop -- to build up the representation.\n",
    "  - The \"outer\" loop takes a line of text at a time. Each line represents a \"row\" of the maze.\n",
    "  - For each of those rows, the \"inner\" loop looks at each character. The `if-elif-elif-else` control structure determines if the current character is the starting point, the goal, a pathway, or a wall and adds a `True` (if it's a wall) or a `False` (if it's not) to the row array.\n",
    "  - Each parsed row becomes one of the \"inner\" lists. The list of those (row) lists is the 2D array that represents the maze."
   ]
  },
  {
   "cell_type": "markdown",
   "id": "e751ca5f-2e6e-40dd-a97f-9c07e7f2e9b1",
   "metadata": {},
   "source": [
    "## `get_neighbors` Method\n",
    "\n",
    "You might have noticed that the `Maze` class is not responsible for solving itself. It's only a representation of the maze, a data structure suited to storing all the relevant details of a maze alongside some functions that operate on that representation. (If you want to represent the solution or explored paths when the maze is printed or drawn, they have to be supplied from outside the class.)\n",
    "\n",
    "But there is one method that we'll need when solving the maze: `get_neighbors`. The `get_neighbors` method takes in a cell's coordinates and returns a list of all the possible next steps. Here's the code:\n",
    "```python\n",
    "def get_neighbors(self, coordinates):\n",
    "        row, col = coordinates\n",
    "        possible_neighbors = [\n",
    "            ('up', (row - 1, col)),\n",
    "            ('down', (row + 1, col)),\n",
    "            ('left', (row, col - 1)),\n",
    "            ('right', (row, col + 1)),\n",
    "        ]\n",
    "     \n",
    "        neighbors = []\n",
    "        for direction, (r, c) in possible_neighbors:\n",
    "            if 0 <= r < self.height and 0 <= c < self.width and not self.walls[r][c]:\n",
    "                neighbors.append((direction, (r, c)))\n",
    "\n",
    "        return neighbors\n",
    "```\n",
    "\n",
    "It first gets the coordinates one cell above, below, to the left, and to the right of the supplied coordinates. Our 2D array representation makes that easy: look one row above or below, one index left or right.\n",
    "\n",
    "It then loops through those four coordiantes and filters out any that:\n",
    "  - are outside the boundaries of the maze\n",
    "  - are walls\n",
    "\n",
    "What's left is returned. These are all the possible next moves the algorithm will need to consider."
   ]
  }
 ],
 "metadata": {
  "kernelspec": {
   "display_name": "Python 3 (ipykernel)",
   "language": "python",
   "name": "python3"
  },
  "language_info": {
   "codemirror_mode": {
    "name": "ipython",
    "version": 3
   },
   "file_extension": ".py",
   "mimetype": "text/x-python",
   "name": "python",
   "nbconvert_exporter": "python",
   "pygments_lexer": "ipython3",
   "version": "3.12.6"
  }
 },
 "nbformat": 4,
 "nbformat_minor": 5
}
