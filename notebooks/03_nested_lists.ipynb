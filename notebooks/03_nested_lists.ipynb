{
 "cells": [
  {
   "cell_type": "markdown",
   "id": "e316fa18-ad69-45d1-af0b-d3a35c7772ea",
   "metadata": {},
   "source": [
    "# Nested Lists\n",
    "\n",
    "Before we dig into the maze-solving algorithm, we need to lay a little groundwork. First up, nested lists."
   ]
  },
  {
   "cell_type": "markdown",
   "id": "3062f058-3128-470c-bd7c-ecf0e9400ae2",
   "metadata": {},
   "source": [
    "We saw that internally, the `Maze` class represented a maze as what I called a *2-D array* or a *list of lists*. Here's another example:"
   ]
  },
  {
   "cell_type": "code",
   "execution_count": null,
   "id": "5243eeff-899c-4442-bc7f-ef6c21db1819",
   "metadata": {},
   "outputs": [],
   "source": [
    "list_of_lists = [\n",
    "    [0, 1, 2, 3, 4],\n",
    "    [5, 6, 7, 8, 9],\n",
    "    [10, 11, 12, 13, 14],\n",
    "    [15, 16, 17, 18, 19],\n",
    "]"
   ]
  },
  {
   "cell_type": "markdown",
   "id": "bb51f7b8-97ea-46ec-8aca-92be8dc51146",
   "metadata": {},
   "source": [
    "What do you suppose we'd get if we asked for the 0-th element of `list_of_lists`?"
   ]
  },
  {
   "cell_type": "code",
   "execution_count": null,
   "id": "4e576c7f-40ed-4826-a268-028dea4a5e8c",
   "metadata": {},
   "outputs": [],
   "source": [
    "list_of_lists[0]"
   ]
  },
  {
   "cell_type": "markdown",
   "id": "370af990-f8c0-41ef-884a-b726ccbd2ce6",
   "metadata": {},
   "source": [
    "The first \"inner\" list, of course!\n",
    "\n",
    "Let's grab it again, but this time, we'll use a variable to store a reference to it."
   ]
  },
  {
   "cell_type": "code",
   "execution_count": null,
   "id": "85a69f7c-6330-4073-9d51-5ca002696a57",
   "metadata": {},
   "outputs": [],
   "source": [
    "first_inner_list = list_of_lists[0]\n",
    "first_inner_list"
   ]
  },
  {
   "cell_type": "markdown",
   "id": "07132492-c9e2-4adb-a170-7e7c4884d6d2",
   "metadata": {},
   "source": [
    "And now we can index into `first_inner_list` as normal. For example..."
   ]
  },
  {
   "cell_type": "code",
   "execution_count": null,
   "id": "4d593f47-f22d-44de-8b43-155784937bd3",
   "metadata": {},
   "outputs": [],
   "source": [
    "first_inner_list[3]"
   ]
  },
  {
   "cell_type": "markdown",
   "id": "adc5aa05-dcb2-48e1-8974-29c74c267c46",
   "metadata": {},
   "source": [
    "So we got the fourth element (index = 3) of the first inner list (index = 0) in *two steps*. But we can do it in just one:"
   ]
  },
  {
   "cell_type": "code",
   "execution_count": null,
   "id": "2c09fe21-e490-47d2-a55d-18fe10002fca",
   "metadata": {},
   "outputs": [],
   "source": [
    "list_of_lists[0][3]"
   ]
  },
  {
   "cell_type": "markdown",
   "id": "92d4df1e-31d8-4072-8f3a-40f6b7cab1de",
   "metadata": {},
   "source": [
    "Two indexes? Yep. `list_of_lists[0]` gives us the first \"inner\" list and then the `[3]` indexes into *that inner list* (not the list of lists)."
   ]
  },
  {
   "cell_type": "markdown",
   "id": "a0c61964-8147-4b0f-a015-a1a72495a2ef",
   "metadata": {},
   "source": [
    "Think you got it? Let's make sure. Before you execute the next two cells, try to anticpate what will be returned."
   ]
  },
  {
   "cell_type": "code",
   "execution_count": null,
   "id": "1c516174-223a-4760-90f9-be839b466e7d",
   "metadata": {},
   "outputs": [],
   "source": [
    "list_of_lists[3][0]"
   ]
  },
  {
   "cell_type": "code",
   "execution_count": null,
   "id": "38210f41-15d2-4da8-a0b6-e000138e1164",
   "metadata": {},
   "outputs": [],
   "source": [
    "list_of_lists[1][2]"
   ]
  },
  {
   "cell_type": "markdown",
   "id": "c83944f6-a487-4d18-a888-2018471931be",
   "metadata": {},
   "source": [
    "## Coordinates\n",
    "\n",
    "For our mazes, we're using a list of lists to represent a two dimensional grid or coordinate system. But unlike a Cartesian coordinate system, ours:\n",
    "  - has its origin -- (0, 0) -- in the *top-left corner*\n",
    "  - the \"y\" or vertical coordinate is listed *first*; the \"x\" or horizontal coordinate, *second*\n",
    " \n",
    "```                   \n",
    "  (0, 0) ----------------------------------------\n",
    "     |\n",
    "     |\n",
    "     |                x (y, x)\n",
    "     |\n",
    "     |\n",
    "     |\n",
    "     |\n",
    "     |\n",
    "```\n",
    "\n",
    "That structure -- origin in the top-left and (y, x) coordinates -- is what's natural for a language like Python because:\n",
    "  - like us, Python reads the text file top to bottom, left to right\n",
    "  - it's much easier to read a \"row\" of text in a chunk than a \"column\" of text"
   ]
  },
  {
   "cell_type": "markdown",
   "id": "c7d512ba-583b-4dd5-a000-e82cd482a124",
   "metadata": {},
   "source": [
    "And so you could think of our \"double indexing\", for this problem, at least, as asking for a value at a certain coordinate:\n",
    "```python\n",
    "maze_at_y_x = maze[y_coordinate][x_coordinate]\n",
    "```"
   ]
  },
  {
   "cell_type": "markdown",
   "id": "3ef2421d-94b0-4674-942f-3366a5518a38",
   "metadata": {},
   "source": [
    "To give ourselves a chance to adjust to these differences, let's pick out the maze's corners."
   ]
  },
  {
   "cell_type": "code",
   "execution_count": null,
   "id": "ac68b044-3b86-4284-a770-f6e8946e3776",
   "metadata": {},
   "outputs": [],
   "source": [
    "top_left = list_of_lists[0][0]\n",
    "top_left"
   ]
  },
  {
   "cell_type": "code",
   "execution_count": null,
   "id": "ad185e2f-7247-4d35-8f07-5de935e35685",
   "metadata": {},
   "outputs": [],
   "source": [
    "bottom_right = list_of_lists[-1][-1] # Unlike Cartesian coordinates, negative values count from the bottom right\n",
    "bottom_right"
   ]
  },
  {
   "cell_type": "code",
   "execution_count": null,
   "id": "827ca599-ed19-4206-a2e3-3fb9852463e4",
   "metadata": {},
   "outputs": [],
   "source": [
    "top_right = list_of_lists[0][-1]\n",
    "top_right"
   ]
  },
  {
   "cell_type": "code",
   "execution_count": null,
   "id": "4bffcf2c-736a-4df5-bcb4-1140d0e152dd",
   "metadata": {},
   "outputs": [],
   "source": [
    "bottom_left = list_of_lists[-1][0]\n",
    "bottom_left"
   ]
  },
  {
   "cell_type": "markdown",
   "id": "8a4cf2b1-b60f-4536-a551-d77eec41e36a",
   "metadata": {},
   "source": [
    "## Looping through a list of lists\n",
    "\n",
    "What if we need to systematically \"look\" at each cell in the maze? Given our data structure, it would be natural to take the rows one at a time, and for each row, to work from the first or left-most column to the last or right-most. Top to bottom, left to right. "
   ]
  },
  {
   "cell_type": "markdown",
   "id": "9ddabc09-f143-4a70-a7ca-3d6430236d7e",
   "metadata": {},
   "source": [
    "To work through *nested lists*, we can use *nested `for` loop*. The outer loop will grab a row at a time, starting from the first (top) until it reaches the the last (bottom). The \"inner\" loop will iterate through the current row, taking on each loop the columns from the first (left) to the last (right).\n",
    "\n",
    "Here's what that looks like:"
   ]
  },
  {
   "cell_type": "code",
   "execution_count": null,
   "id": "568385d5-f982-4fe9-a2d3-b4575cf1fd97",
   "metadata": {},
   "outputs": [],
   "source": [
    "flattened_list = [] # for demonstration, I'll add each item to this list in the order it's \"seen\"\n",
    "\n",
    "for row in list_of_lists:\n",
    "    for value_at_col in row:\n",
    "        flattened_list.append(value_at_col)\n",
    "\n",
    "flattened_list"
   ]
  },
  {
   "cell_type": "markdown",
   "id": "c23c6763-e530-47ea-bb9e-691b5b548c41",
   "metadata": {},
   "source": [
    "That gives us the *values* in order. But we might also need to know the *coordinates* of the value we're looking at. We've already learned how to use `enumerate` to help:"
   ]
  },
  {
   "cell_type": "code",
   "execution_count": null,
   "id": "c673be9f-93d7-40eb-bbfb-300d712ad353",
   "metadata": {},
   "outputs": [],
   "source": [
    "for y_coord, row in enumerate(list_of_lists):\n",
    "    for x_coord, cell_value in enumerate(row):\n",
    "        print(f\"{cell_value} at ({y_coord}, {x_coord})\")"
   ]
  },
  {
   "cell_type": "markdown",
   "id": "82adb4c7-4afe-4060-8d33-2e3b1390598e",
   "metadata": {},
   "source": [
    "If the above is confusing, it may help to be reminded what `enumerate` does:"
   ]
  },
  {
   "cell_type": "code",
   "execution_count": null,
   "id": "e21ac371-710d-4c02-b3fd-ed042fb9bfd6",
   "metadata": {},
   "outputs": [],
   "source": [
    "list(enumerate(['a', 'b', 'c', 'd']))"
   ]
  },
  {
   "cell_type": "markdown",
   "id": "1b37e745-e4df-420a-8563-315f98d8a45a",
   "metadata": {},
   "source": [
    "Okay, that should give you what you need to know about nested lists (a.k.a. a \"list of lists\" or a \"2-D array\") to get build our maze solver."
   ]
  }
 ],
 "metadata": {
  "kernelspec": {
   "display_name": "Python 3 (ipykernel)",
   "language": "python",
   "name": "python3"
  },
  "language_info": {
   "codemirror_mode": {
    "name": "ipython",
    "version": 3
   },
   "file_extension": ".py",
   "mimetype": "text/x-python",
   "name": "python",
   "nbconvert_exporter": "python",
   "pygments_lexer": "ipython3",
   "version": "3.12.6"
  }
 },
 "nbformat": 4,
 "nbformat_minor": 5
}
