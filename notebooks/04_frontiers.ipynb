{
 "cells": [
  {
   "cell_type": "markdown",
   "id": "07cfdf2d-d072-4e1e-ba0e-22907c2c713e",
   "metadata": {},
   "source": [
    "# Coding the Frontier\n",
    "\n"
   ]
  },
  {
   "cell_type": "markdown",
   "id": "983fa7b8-313b-40d4-971b-7543e52df4a8",
   "metadata": {},
   "source": [
    "## `Node` Class\n",
    "\n",
    "We need a data structure to store information about maze cells we visit. It should be able to store the coordinates of the cell, a pointer to its \"parent\" -- the cell we visited immediately before we got to this cell -- and the action -- up, down, left, or right -- that brought us to this cell. How it will be used will become clearer. For now, all you need to do is follow the specification, below.\n",
    "\n",
    "Create a class called `PathNode`. It's `__init__` method should accept three arguments (in addition to `self`):\n",
    "  - `state`: the coordinates of the cell, a tuple with two integers `(row, column)`\n",
    "  - `parent`: the instance of `PathNode` we visited immediately before we got to this cell\n",
    "  - `action`: the action that brought us to this cell\n",
    "\n",
    "Make sure that you \"attach\" these inputs to the class instances by creating properties on `self`."
   ]
  },
  {
   "cell_type": "code",
   "execution_count": null,
   "id": "6504519f-83bf-4da8-9526-abb2efeee65e",
   "metadata": {},
   "outputs": [],
   "source": []
  },
  {
   "cell_type": "markdown",
   "id": "82cb4d1d-1d27-425e-8e36-76a63787ac62",
   "metadata": {},
   "source": [
    "Let's make sure your class works. The code, below, should create a couple of instances of `PathNode`."
   ]
  },
  {
   "cell_type": "code",
   "execution_count": null,
   "id": "d33812a9-3b09-4233-865f-024715944ae1",
   "metadata": {},
   "outputs": [],
   "source": [
    "nodeStart = PathNode((0, 0), None, None) # parent and action are None because this is our starting point\n",
    "node1 = PathNode((0, 1), nodeStart, 'right')\n",
    "node2 = PathNode((1, 1), node1, 'down')\n",
    "node3 = PathNode((2, 1), node2, 'down')"
   ]
  },
  {
   "cell_type": "markdown",
   "id": "9424de0e-25aa-4c95-be29-2611993bcb51",
   "metadata": {},
   "source": [
    "Because each node stores information about its \"parent\", we can trace the path that brought us to it. Write some code that will give you a list of actions that will get you from `startNode` to `node3`. We know what the result should be: `[\"right\", \"down\", \"down\"]`. Make sure that's what your code produces."
   ]
  },
  {
   "cell_type": "code",
   "execution_count": null,
   "id": "ff2837a0-55a0-4713-ae17-af59e26d40b6",
   "metadata": {},
   "outputs": [],
   "source": []
  },
  {
   "cell_type": "markdown",
   "id": "2949dc13-d1e5-469c-8f0b-2e4e73902740",
   "metadata": {},
   "source": [
    "## `Frontier` Class\n",
    "\n",
    "We're going to create two versions of a frontier, one suited for depth-first searches, another suited for breadth-first searches. We want both those versions to have the same *interface*. And there's going to be plenty of code shared between the two. In such a situation, it makes sense to create a super class. We'll call it `Frontier`. We won't use it directly, but it will be the super class from which our breadth- and depth-first frontiers will inherit. \n",
    "\n",
    "Creating the `Frontier` class can be my job."
   ]
  },
  {
   "cell_type": "code",
   "execution_count": null,
   "id": "17b622ab-f063-4059-8f7e-fb6bde5675f0",
   "metadata": {},
   "outputs": [],
   "source": [
    "from abc import ABC, abstractmethod\n",
    "\n",
    "class Frontier(ABC):\n",
    "    def __init__(self):\n",
    "        self.frontier = []\n",
    "\n",
    "    def add(self, node):\n",
    "        self.frontier.append(node)\n",
    "\n",
    "    def contains_state(self, state):\n",
    "        return any(node.state == state for node in self.frontier)\n",
    "\n",
    "    def empty(self):\n",
    "        return len(self.frontier) == 0\n",
    "\n",
    "    @abstractmethod\n",
    "    def remove(self):\n",
    "        \"\"\"Remove and return a node from the frontier.\"\"\"\n",
    "        pass"
   ]
  },
  {
   "cell_type": "markdown",
   "id": "c701d095-ca2c-4a6b-86f5-f5b5cd50d2be",
   "metadata": {},
   "source": [
    "There's a lot going on here.\n",
    "  - `Frontier` has a super class, `ABC`. That stands for `Abstract Base Class`. `ABC` gives `Frontier` some extra functionality for defining ***abstract methods*** (more on that in a moment).\n",
    "  - The `__init__` method is pretty simple. It takes no inputs and creates a single attribute, `frontier`, which stores (at first, any way) an empty list.\n",
    "  - Every class that inherits from `Frontier` will have an `add`, `contains_state`, and `empty` method. We can implement them on `Frontier` because their behavior will be the same for both the breadth- and depth-first frontiers. What each does is fairly straightforward:\n",
    "    - `contains_state` looks through all the nodes in the `frontier` list, returning `True` if a node with matching coordinates is found and `False` otherwise.\n",
    "    - `empty` returns `True` if the frontier is empty and `False` otherwise.\n",
    "    - `add` appends a node to the end of the list.\n",
    "  - The `remove` method is different. It's an **abstract method**. \"Abstract\" here just means that any class that inherits from `Frontier` has to have a method called `remove`, but it's up to the subclass to implement it. Notice the `@abstractmethod` **decorator** just above its definition. A decorator \"wraps\" the method and gives it extra functionality. In this case, it will ensure that subclasses of `Frontier` implement the `remove` method."
   ]
  },
  {
   "cell_type": "markdown",
   "id": "ec2f60e3-6fdb-4cf0-b99b-d8cbf044a382",
   "metadata": {},
   "source": [
    "Here's what happens if you try to instantiate `Frontier` itself: "
   ]
  },
  {
   "cell_type": "code",
   "execution_count": null,
   "id": "779d4f8c-7bbb-4083-863a-dd628fe29c00",
   "metadata": {},
   "outputs": [],
   "source": [
    "base_frontier = Frontier()"
   ]
  },
  {
   "cell_type": "markdown",
   "id": "79d354cd-bd6f-4890-a236-f8c7b181545e",
   "metadata": {},
   "source": [
    "Because of that `@abstractmethod` decorator, you also can't instantiate a subclass that lacks a `remove` method."
   ]
  },
  {
   "cell_type": "code",
   "execution_count": null,
   "id": "e9b782d7-5367-422c-baea-e0f296e54641",
   "metadata": {},
   "outputs": [],
   "source": [
    "class MissingRemove(Frontier):\n",
    "    pass\n",
    "\n",
    "frontierWithoutRemove = MissingRemove()"
   ]
  },
  {
   "cell_type": "markdown",
   "id": "115f1308-7c13-4d07-8280-b928f8f14417",
   "metadata": {},
   "source": [
    "On the other hand, there's nothing that restricts *what* a `remove` method will do. We can satisfy the abstract method will a totally inert method:"
   ]
  },
  {
   "cell_type": "code",
   "execution_count": null,
   "id": "1b275299-427c-4307-aad4-2d6d2d7d8d5e",
   "metadata": {},
   "outputs": [],
   "source": [
    "class InertRemove(Frontier):\n",
    "    def remove(self):\n",
    "        pass\n",
    "\n",
    "frontierInertRemove = InertRemove()"
   ]
  },
  {
   "cell_type": "markdown",
   "id": "45b4bf71-be2f-4899-9eb4-e6f3620afc6e",
   "metadata": {},
   "source": [
    "Call `remove` all you want. Nothing will happen. But the point is, it's there."
   ]
  },
  {
   "cell_type": "code",
   "execution_count": null,
   "id": "786718ae-93ed-4b21-84da-377a5fdeb9e8",
   "metadata": {},
   "outputs": [],
   "source": [
    "frontierInertRemove.remove()\n",
    "frontierInertRemove.remove()\n",
    "frontierInertRemove.remove()"
   ]
  },
  {
   "attachments": {},
   "cell_type": "markdown",
   "id": "dcd3f344-7346-4f2d-aa5a-fdb1da830d20",
   "metadata": {},
   "source": [
    "## Stacks & Queues\n",
    "\n",
    "The difference between a breadth-first and a depth-first search comes down to order: which nodes do we explore next.\n",
    "\n",
    "The difference lines up with two fundamental data structures: **stacks** and **queues**. Both are lists. But they differ in how elements are chosen from the list:\n",
    "  - **stacks** are *last-out, first-out*: when it's time to take an item from the list, take the item that was most recently added\n",
    "  - **queues** are *first-in, first-out*: when it's time to take an item from the list, take the oldest item (the item at the \"front\" of the queue)\n",
    "    \n",
    "\n",
    "![Stacks v. Queues](../img/stack-v-queue.webp)\n",
    "\n",
    "To implement a depth-first search, we'd use a **stack** (since depth-first searches keep \"expanding\" the current (\"last in\") path).\n",
    "\n",
    "To implement a breadth-first search, we'd use a **queue** (since breadth-first searches keep \"expanding\" outward on every possible path, one step at a time)."
   ]
  },
  {
   "cell_type": "markdown",
   "id": "e30c8016-ef86-4b0f-9d10-c211ce4b2fa5",
   "metadata": {},
   "source": [
    "## `BreadthFirstFrontier` and `DepthFirstFrontier`\n",
    "\n",
    "\n",
    "Now that we have a base class that implements most of the functionality we need, we're ready to build out a depth- and breadth-first frontier. I've stubbed them out. Both inherit all the functionality of the base `Frontier` class. All that remains is for you to implement the appropriate `remove` method for each. Remember that `BreadthFirstFrontier` should take its nodes from the **front** of the frontier (because we're implementing a **queue**) and `DepthFirstFrontier` should take its nodes from the **back** of the frontier (because we're implementing a **stack**).\n",
    "\n",
    "Two hints:\n",
    "  - remember what attributes are available because these two classes inherit from `Frontier`\n",
    "  - it would be helpful if you first check if the frontier is empty"
   ]
  },
  {
   "cell_type": "code",
   "execution_count": null,
   "id": "d8d2bd02-60f2-4bbe-a733-8afcf1c42fc4",
   "metadata": {},
   "outputs": [],
   "source": [
    "class BreadthFirstFrontier(Frontier):\n",
    "    def remove(self):\n",
    "        pass"
   ]
  },
  {
   "cell_type": "code",
   "execution_count": null,
   "id": "d3d37931-b6b0-412b-912e-8aa2599c8bcd",
   "metadata": {},
   "outputs": [],
   "source": [
    "class DepthFirstFrontier(Frontier):\n",
    "    def remove(self):\n",
    "        pass"
   ]
  },
  {
   "cell_type": "markdown",
   "id": "d1449389-7b11-4d3a-b41b-93d1c10d5ba1",
   "metadata": {},
   "source": [
    "To check your work, let's create some nodes, load up each frontier, and see `remove` is ordered in each of the cases. To make it a little easier to visualize, let's draw a maze and use real coordinates."
   ]
  },
  {
   "cell_type": "code",
   "execution_count": null,
   "id": "17975af1-8fc4-4cfa-8b60-89e542237e31",
   "metadata": {},
   "outputs": [],
   "source": [
    "import os\n",
    "import sys\n",
    "module_path = os.path.abspath(os.path.join('../src')) # or the path to your source code\n",
    "sys.path.insert(0, module_path)\n",
    "\n",
    "from Maze import Maze\n",
    "\n",
    "maze = Maze(\"maze3\")\n",
    "maze.draw()"
   ]
  },
  {
   "cell_type": "markdown",
   "id": "7b4ebb66-c0d7-49cf-a0f2-d517b59c4198",
   "metadata": {},
   "source": [
    "Here, then, are the first four nodes we'd add to the frontier."
   ]
  },
  {
   "cell_type": "code",
   "execution_count": null,
   "id": "bfca91b6-79f4-4082-a742-69bf63495d19",
   "metadata": {},
   "outputs": [],
   "source": [
    "start = PathNode(maze.start, None, None)\n",
    "node_one = PathNode((4, 0), start, 'up')\n",
    "node_two = PathNode((4, 1), node_one, 'right')\n",
    "node_three = PathNode((3, 1), node_two, 'up')\n",
    "node_four = PathNode((4, 2), node_two, 'right')"
   ]
  },
  {
   "cell_type": "markdown",
   "id": "fbbdd9c1-b26a-4761-8a91-80ba810dca3a",
   "metadata": {},
   "source": [
    "Let's now create an instance of `BreadthFirstFrontier` and `DepthFirstFrontier` and load up each with these four nodes."
   ]
  },
  {
   "cell_type": "code",
   "execution_count": null,
   "id": "fe225266-d713-45d8-b67f-f3ea11f30781",
   "metadata": {},
   "outputs": [],
   "source": [
    "bff = BreadthFirstFrontier()\n",
    "dff = DepthFirstFrontier()\n",
    "nodes = [start, node_one, node_two, node_three, node_four]\n",
    "\n",
    "# add each node in the list to both frontiers using the `add` method\n",
    "for node in nodes:\n",
    "    bff.add(node)\n",
    "    dff.add(node)"
   ]
  },
  {
   "cell_type": "markdown",
   "id": "5c8d2701-46b0-4531-ba54-0420c849a475",
   "metadata": {},
   "source": [
    "Let's see what each frontier looks like. I'll pluck out the coordinates of each node in the list."
   ]
  },
  {
   "cell_type": "code",
   "execution_count": null,
   "id": "db16b8f3-91e8-4175-8875-3113d3a4c1db",
   "metadata": {},
   "outputs": [],
   "source": [
    "[node.state for node in bff.frontier]"
   ]
  },
  {
   "cell_type": "code",
   "execution_count": null,
   "id": "baf37e07-ea5f-407a-97ff-f3d590e346b0",
   "metadata": {},
   "outputs": [],
   "source": [
    "[node.state for node in dff.frontier]"
   ]
  },
  {
   "cell_type": "markdown",
   "id": "4a3f174a-a1af-482e-8db1-7d6805257f70",
   "metadata": {},
   "source": [
    "The same, as we'd expect."
   ]
  },
  {
   "cell_type": "markdown",
   "id": "207bf963-8fdf-41f1-a0f1-11fc466b0831",
   "metadata": {},
   "source": [
    "Now let's see in what order each frontier removes nodes:"
   ]
  },
  {
   "cell_type": "code",
   "execution_count": null,
   "id": "bf2186f6-db12-4d0a-8e13-fba199a0e9a6",
   "metadata": {},
   "outputs": [],
   "source": [
    "while bff.frontier:\n",
    "    print(bff.remove().state)"
   ]
  },
  {
   "cell_type": "code",
   "execution_count": null,
   "id": "747ec171-7696-4eb5-bc72-84eba3f61554",
   "metadata": {},
   "outputs": [],
   "source": [
    "while dff.frontier:\n",
    "    print(dff.remove().state)"
   ]
  },
  {
   "cell_type": "markdown",
   "id": "26dab46f-33a4-42a9-ab85-5abf7d3b17ce",
   "metadata": {},
   "source": [
    "If the `bff` list is opposite the `dff` list, then all is well!"
   ]
  }
 ],
 "metadata": {
  "kernelspec": {
   "display_name": "Python 3 (ipykernel)",
   "language": "python",
   "name": "python3"
  },
  "language_info": {
   "codemirror_mode": {
    "name": "ipython",
    "version": 3
   },
   "file_extension": ".py",
   "mimetype": "text/x-python",
   "name": "python",
   "nbconvert_exporter": "python",
   "pygments_lexer": "ipython3",
   "version": "3.12.6"
  }
 },
 "nbformat": 4,
 "nbformat_minor": 5
}
