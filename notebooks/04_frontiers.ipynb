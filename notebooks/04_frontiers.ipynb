{
 "cells": [
  {
   "cell_type": "markdown",
   "id": "07cfdf2d-d072-4e1e-ba0e-22907c2c713e",
   "metadata": {},
   "source": [
    "# Coding the Frontier\n",
    "\n"
   ]
  },
  {
   "cell_type": "markdown",
   "id": "983fa7b8-313b-40d4-971b-7543e52df4a8",
   "metadata": {},
   "source": [
    "## `Node` Class\n",
    "\n",
    "We need a data structure to store information about maze cells we visit. It should be able to store the coordinates of the cell, a pointer to its \"parent\" -- the cell we visited immediately before we got to this cell -- and the action -- up, down, left, or right -- that brought us to this cell.\n",
    "\n",
    "Create a class called `PathNode`. It's `__init__` method should accept three arguments (in addition to `self`):\n",
    "  - `state`: the coordinates of the cell\n",
    "  - `parent`: the instance of `PathNode` we visited immediately before we got to this cell\n",
    "  - `action`: the action that brought us to this cell\n",
    "\n",
    "Make sure that you \"attach\" these inputs to the class instances by creating properties on `self`."
   ]
  },
  {
   "cell_type": "code",
   "execution_count": null,
   "id": "6504519f-83bf-4da8-9526-abb2efeee65e",
   "metadata": {},
   "outputs": [],
   "source": []
  },
  {
   "cell_type": "markdown",
   "id": "82cb4d1d-1d27-425e-8e36-76a63787ac62",
   "metadata": {},
   "source": [
    "Let's make sure your class works. The code, below, should create a couple of instances of `PathNode`."
   ]
  },
  {
   "cell_type": "code",
   "execution_count": null,
   "id": "d33812a9-3b09-4233-865f-024715944ae1",
   "metadata": {},
   "outputs": [],
   "source": [
    "nodeStart = PathNode((0, 0), None, None) # parent and action are None because this is our starting point\n",
    "node1 = PathNode((0, 1), nodeStart, 'right')\n",
    "node2 = PathNode((1, 1), node1, 'down')\n",
    "node3 = PathNode((2, 1), node2, 'down')"
   ]
  },
  {
   "cell_type": "markdown",
   "id": "9424de0e-25aa-4c95-be29-2611993bcb51",
   "metadata": {},
   "source": [
    "Because each node stores information about its \"parent\", we can trace the path that brought us to it. Write some code that will give you a list of actions that will get you from `startNode` to `node3`. We know what the result should be: `[\"right\", \"down\", \"down\"]`. Make sure that's what your code produces."
   ]
  },
  {
   "cell_type": "code",
   "execution_count": null,
   "id": "ff2837a0-55a0-4713-ae17-af59e26d40b6",
   "metadata": {},
   "outputs": [],
   "source": []
  },
  {
   "cell_type": "markdown",
   "id": "2949dc13-d1e5-469c-8f0b-2e4e73902740",
   "metadata": {},
   "source": [
    "## `Frontier` Class\n",
    "\n",
    "We're going to create two versions of a frontier, one suited for depth-first searches, another suited for breadth-first searches. We want both those versions to have the same *interface*. And there's going to be plenty of code shared between the two. In such a situation, it makes sense to create a super class. We'll call it `Frontier`. We won't use it directly, but it will be the super class from which our breadth- and depth-first frontiers will inherit. \n",
    "\n",
    "Creating the `Frontier` class can be my job."
   ]
  },
  {
   "cell_type": "code",
   "execution_count": null,
   "id": "17b622ab-f063-4059-8f7e-fb6bde5675f0",
   "metadata": {},
   "outputs": [],
   "source": [
    "from abc import ABC, abstractmethod\n",
    "\n",
    "class Frontier(ABC):\n",
    "    def __init__(self):\n",
    "        self.frontier = []\n",
    "\n",
    "    def add(self, node):\n",
    "        self.frontier.append(node)\n",
    "\n",
    "    def contains_state(self, state):\n",
    "        return any(node.state == state for node in self.frontier)\n",
    "\n",
    "    def empty(self):\n",
    "        return len(self.frontier) == 0\n",
    "\n",
    "    @abstractmethod\n",
    "    def remove(self):\n",
    "        \"\"\"Remove and return a node from the frontier.\"\"\"\n",
    "        pass"
   ]
  },
  {
   "cell_type": "markdown",
   "id": "c701d095-ca2c-4a6b-86f5-f5b5cd50d2be",
   "metadata": {},
   "source": [
    "There's a lot going on here.\n",
    "  - `Frontier` has a super class, `ABC`. That stands for `Abstract Base Class`. `ABC` gives `Frontier` some extra functionality for defining ***abstract methods*** (more on that in a moment).\n",
    "  - The `__init__` method is pretty simple. It takes no inputs and creates a single attribute, `frontier`, which stores (at first, any way) an empty list.\n",
    "  - Every class that inherits from `Frontier` will have an `add`, `contains_state`, and `empty` method. We can implement them on `Frontier` because their behavior will be the same for both the breadth- and depth-first frontiers.\n",
    "  - The `remove` method is different. It's an **abstract method**. \"Abstract\" here just means that any class that inherits from `Frontier` has to have a method called `remove`, but it's up to the subclass to implement it. Notice the `@abstractmethod` **decorator** just above its definition. A decorator \"wraps\" the method and gives it extra functionality. In this case, it will ensure that subclasses of `Frontier` implement the `remove` method."
   ]
  },
  {
   "cell_type": "markdown",
   "id": "ec2f60e3-6fdb-4cf0-b99b-d8cbf044a382",
   "metadata": {},
   "source": [
    "here's what happens if you try to instantiate `Frontier`: "
   ]
  },
  {
   "cell_type": "code",
   "execution_count": null,
   "id": "779d4f8c-7bbb-4083-863a-dd628fe29c00",
   "metadata": {},
   "outputs": [],
   "source": [
    "base_frontier = Frontier()"
   ]
  },
  {
   "cell_type": "markdown",
   "id": "79d354cd-bd6f-4890-a236-f8c7b181545e",
   "metadata": {},
   "source": [
    "Because of that `@abstractmethod` decorator, you also can't instantiate a subclass that lacks a `remove` method."
   ]
  },
  {
   "cell_type": "code",
   "execution_count": null,
   "id": "e9b782d7-5367-422c-baea-e0f296e54641",
   "metadata": {},
   "outputs": [],
   "source": [
    "class MissingRemove(Frontier):\n",
    "    pass\n",
    "\n",
    "frontierWithoutRemove = MissingRemove()"
   ]
  },
  {
   "cell_type": "markdown",
   "id": "115f1308-7c13-4d07-8280-b928f8f14417",
   "metadata": {},
   "source": [
    "On the other hand, there's nothing that restricts *what* a `remove` method will do. We can satisfy the abstract method will a totally inert method:"
   ]
  },
  {
   "cell_type": "code",
   "execution_count": null,
   "id": "1b275299-427c-4307-aad4-2d6d2d7d8d5e",
   "metadata": {},
   "outputs": [],
   "source": [
    "class InertRemove(Frontier):\n",
    "    def remove(self):\n",
    "        pass\n",
    "\n",
    "frontierInertRemove = InertRemove()"
   ]
  },
  {
   "cell_type": "markdown",
   "id": "45b4bf71-be2f-4899-9eb4-e6f3620afc6e",
   "metadata": {},
   "source": [
    "Call `remove` all you want. Nothing will happen. But the point is, it's there."
   ]
  },
  {
   "cell_type": "code",
   "execution_count": null,
   "id": "786718ae-93ed-4b21-84da-377a5fdeb9e8",
   "metadata": {},
   "outputs": [],
   "source": [
    "frontierInertRemove.remove()\n",
    "frontierInertRemove.remove()\n",
    "frontierInertRemove.remove()"
   ]
  },
  {
   "cell_type": "code",
   "execution_count": null,
   "id": "9bd48043-4193-446e-9c1d-cb7620d42354",
   "metadata": {},
   "outputs": [],
   "source": [
    "f = Frontier()"
   ]
  },
  {
   "cell_type": "code",
   "execution_count": null,
   "id": "14b931b7-62eb-420b-9975-5eb0497392e5",
   "metadata": {},
   "outputs": [],
   "source": []
  }
 ],
 "metadata": {
  "kernelspec": {
   "display_name": "Python 3 (ipykernel)",
   "language": "python",
   "name": "python3"
  },
  "language_info": {
   "codemirror_mode": {
    "name": "ipython",
    "version": 3
   },
   "file_extension": ".py",
   "mimetype": "text/x-python",
   "name": "python",
   "nbconvert_exporter": "python",
   "pygments_lexer": "ipython3",
   "version": "3.12.6"
  }
 },
 "nbformat": 4,
 "nbformat_minor": 5
}
