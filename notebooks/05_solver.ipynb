{
 "cells": [
  {
   "cell_type": "markdown",
   "id": "685df546-28da-4378-956e-265885773f85",
   "metadata": {},
   "source": [
    "# Solver\n",
    "\n",
    "We have almost everything we need:\n",
    "  - code to read, validate, and build a representation of maze files\n",
    "  - two frontiers, one for breadth-first and another for depth-first searching\n",
    "\n",
    "All that's left is the code that *solves* a maze. That's what we'll build now.\n",
    "\n",
    "How do you want to do it?\n",
    "\n",
    "- **Hard Mode**: Don't peek at the strategy hints, below. Just go for it. Code it yourself.\n",
    "- **Regular Mode**: Follow the hints, below, to implement the class.\n",
    "- **HELP!**: Feeling lost? I'll do a walk-through with anyone who'd prefer the guided tour."
   ]
  },
  {
   "cell_type": "markdown",
   "id": "1518fbd8-b83b-4fc5-9774-731742f7f8e8",
   "metadata": {},
   "source": [
    "## Strategy"
   ]
  },
  {
   "cell_type": "markdown",
   "id": "90c45d26-d7c2-4862-9270-f44590b65ad8",
   "metadata": {},
   "source": [
    "Believe it or not, the remaining code is the same regardless of the search strategy we employ. The whole difference was the `remove` method on the two frontier classes. Crazy."
   ]
  },
  {
   "cell_type": "markdown",
   "id": "b0f01397-b66a-4e4d-8fd5-44e2dd110d3c",
   "metadata": {},
   "source": [
    "Let's think through how we'll assemble the pieces we've already built. \n",
    "\n",
    "Suppose we already have an instance of the `Maze` class and an instance of the appropriate frontier class. What then?"
   ]
  },
  {
   "cell_type": "markdown",
   "id": "132b75f7-bd7f-47c9-b099-85f0945d5fd3",
   "metadata": {},
   "source": [
    "I'd propose the following:\n",
    "1. Create a class called `Solver`. It should take as inputs and store:\n",
    "    - the maze instance\n",
    "    - the frontier instance\n",
    "2. The initializer method could also create a `solution` and `actions`. These will be the result of calling the `solve` method.\n",
    "     - `solution` will store a list of the coordinates of the solution path. The first coordinate pair should be the starting cell; the last coordinate pair should be the goal cell.\n",
    "     - `actions` will be a list of the \"actions\" -- up, down, left, right -- that we could perform to get from the starting cell to the goal cell.  \n",
    "3. Stub out the `solve` method. It won't need any inputs (other than `self).\n",
    "4. Within the `solve` method, you'll need to:\n",
    "    - First, we'll do some one-time set up:\n",
    "        - Create a `PathNode` instance for the starting cell. It's `parent` and `action` properties will be `None` (since it's the first).\n",
    "        - Add that starting `PathNode` instance to the frontier.\n",
    "        - Create a new instance property called `explored`. To begin, it will be an empty **set**. Every time we visit a cell in the maze, we'll add it to this set. Before we add a cell to the frontier, we'll make sure we haven't already visited it. That's how we'll keep ourselves from cycling back to places we've already visited.\n",
    "    - The rest of code will need to be repeated. So let's put it in a `while True` loop. (It won't be an infite loop, because we'll be careful to break the loop when we find a solution or conclude that no solution is posible.)\n",
    "        - First, make sure we still have nodes in the frontier. We have a method for that: `empty()`. If the frontier is empty, raise an exception. If we ever completely drain the frontier and we haven't found a solution, no solution is possible.\n",
    "        - Then, use the `remove()` method on the frontier to get the next node. Remember that `BreadthFirstFrontier` and `DepthFirstFrontier` have different implementations of `remove`. That means you don't have to worry here about how to pick the next node. We already took care of it.\n",
    "        - Check if that node is the goal:\n",
    "            - If it is, you're almost finished. All that's left to do is retrace (using the `parent` property of each `PathNode` instance) the sequence of cells and actions. You may need to reverse the list you build up so that it starts at the beginning and ends at the goal. Make sure to break the loop, maybe with a `return` statement.\n",
    "            - If it is not the goal, use the `get_neighbors` method on the maze instance to see where you might go next. Add those neighbors to the frontier **if and only if** the node isn't already in the frontier (you have a `contains_state` method for just this purpose) and isn't in the set of explored nodes.\n",
    "\n",
    "That's it. The loop will keep looping until you've found a solution or you've exhausted the frontier (meaning no solution could be found)."
   ]
  },
  {
   "cell_type": "markdown",
   "id": "8f05b38e-9fc4-4d71-806a-42408e3fbab3",
   "metadata": {},
   "source": [
    "## Solution\n",
    "\n",
    "Here's where you'll code your solution."
   ]
  },
  {
   "cell_type": "markdown",
   "id": "009ddce0-9eca-4cc2-bafd-8ebc21a56beb",
   "metadata": {},
   "source": [
    "First, I'll import the `Maze` class for you so you have access to it."
   ]
  },
  {
   "cell_type": "code",
   "execution_count": null,
   "id": "d5126ffd-92e9-4cbb-ad78-32c9ebc2e56b",
   "metadata": {},
   "outputs": [],
   "source": [
    "import os\n",
    "import sys\n",
    "module_path = os.path.abspath(os.path.join('../src')) # or the path to your source code\n",
    "sys.path.insert(0, module_path)\n",
    "\n",
    "from Maze import Maze"
   ]
  },
  {
   "cell_type": "markdown",
   "id": "d53af6c5-d28a-4cea-a161-1faff6f2a05f",
   "metadata": {},
   "source": [
    "In the next celll, paste your `PathNode`, `BreadthFirstFrontier` and `DepthFirstFrontier` classes so you have access to them:"
   ]
  },
  {
   "cell_type": "code",
   "execution_count": null,
   "id": "218cdfeb-660c-4ddf-ad7e-9733d218dc4d",
   "metadata": {},
   "outputs": [],
   "source": []
  },
  {
   "cell_type": "markdown",
   "id": "d8bf1714-1cf8-4a24-b8ea-c9b2c7101e51",
   "metadata": {},
   "source": [
    "And finally, here's where you'll code your `Solver` class:"
   ]
  },
  {
   "cell_type": "code",
   "execution_count": null,
   "id": "54343242-937d-46ce-b5d6-1625d7505e30",
   "metadata": {},
   "outputs": [],
   "source": [
    "class Solver:\n",
    "    pass"
   ]
  },
  {
   "cell_type": "markdown",
   "id": "46497d19-69e4-4657-907d-8fb17a5a4d6a",
   "metadata": {},
   "source": [
    "## Checking Your Solution\n",
    "\n",
    "Let's see how you did. I'm making some assumptions about how you `Solver` class works, namely that creating an instance of solver will call the `solve` (or other) method that calculates a solution. That instance, once solved, will have a `solution` property with a list of cells for the solution path and an `explored` property that will contain a list of all the explored nodes. If your implementation differs, you'll have to adjust the code accordingly."
   ]
  },
  {
   "cell_type": "code",
   "execution_count": null,
   "id": "5fe25e2b-7c69-47dd-b682-197eff9e971e",
   "metadata": {},
   "outputs": [],
   "source": [
    "# the maze instance\n",
    "maze = Maze(\"maze2\")\n",
    "\n",
    "# an instance of each frontier\n",
    "bff = BreadthFirstFrontier()\n",
    "dff = DepthFirstFrontier()\n",
    "\n",
    "# a separate solver instance for each search strategy\n",
    "bff_solver = Solver(maze, bff)\n",
    "dff_solver = Solver(maze, dff)"
   ]
  },
  {
   "cell_type": "markdown",
   "id": "247fde92-1268-4c3a-acf1-ec2d5a5672d5",
   "metadata": {},
   "source": [
    "Let's try drawing the breadth-first solution:"
   ]
  },
  {
   "cell_type": "code",
   "execution_count": null,
   "id": "193a28ca-59f4-4e66-9380-1860712b5110",
   "metadata": {},
   "outputs": [],
   "source": [
    "maze.draw(solution=bff_solver.solution, explored=bff_solver.explored)"
   ]
  },
  {
   "cell_type": "markdown",
   "id": "6dfeea2c-3950-4018-ad6a-469322e2338a",
   "metadata": {},
   "source": [
    "And then the depth-first solution:"
   ]
  },
  {
   "cell_type": "code",
   "execution_count": null,
   "id": "eb77d488-5012-487d-bcf7-6d3fd7d19877",
   "metadata": {},
   "outputs": [],
   "source": [
    "maze.draw(solution=dff_solver.solution, explored=dff_solver.explored)"
   ]
  }
 ],
 "metadata": {
  "kernelspec": {
   "display_name": "Python 3 (ipykernel)",
   "language": "python",
   "name": "python3"
  },
  "language_info": {
   "codemirror_mode": {
    "name": "ipython",
    "version": 3
   },
   "file_extension": ".py",
   "mimetype": "text/x-python",
   "name": "python",
   "nbconvert_exporter": "python",
   "pygments_lexer": "ipython3",
   "version": "3.12.6"
  }
 },
 "nbformat": 4,
 "nbformat_minor": 5
}
